{
  "nbformat": 4,
  "nbformat_minor": 0,
  "metadata": {
    "colab": {
      "provenance": [],
      "gpuType": "T4"
    },
    "kernelspec": {
      "name": "python3",
      "display_name": "Python 3"
    },
    "language_info": {
      "name": "python"
    },
    "accelerator": "GPU"
  },
  "cells": [
    {
      "cell_type": "code",
      "execution_count": null,
      "metadata": {
        "id": "cF6b73d-qDcs"
      },
      "outputs": [],
      "source": [
        "import pandas as pd\n",
        "from sklearn.model_selection import train_test_split\n",
        "from keras.models import Sequential\n",
        "from keras.layers import Dense, Conv1D, Flatten, MaxPooling1D, LSTM, SimpleRNN\n",
        "\n",
        "# Load the data\n",
        "data = pd.read_csv('/content/dataset_full.csv')\n",
        "X = data.drop('phishing', axis=1)\n",
        "y = data['phishing']\n",
        "\n",
        "# Split the data\n",
        "X_train, X_test, y_train, y_test = train_test_split(X, y, test_size=0.2, random_state=42)"
      ]
    },
    {
      "cell_type": "code",
      "source": [
        "# Import necessary modules\n",
        "from tensorflow.keras.models import Sequential\n",
        "from tensorflow.keras.layers import Conv1D, MaxPooling1D, Flatten, Dense\n",
        "\n",
        "# Define the model\n",
        "model = Sequential()\n",
        "\n",
        "# Add the first convolutional layer with 32 filters and a kernel size of 2\n",
        "model.add(Conv1D(32, 2, activation='relu', input_shape=(X_train.shape[1], 1)))\n",
        "\n",
        "# Add a max pooling layer with a pool size of 2\n",
        "model.add(MaxPooling1D(pool_size=2))\n",
        "\n",
        "# Flatten the output\n",
        "model.add(Flatten())\n",
        "\n",
        "# Add a dense layer with 64 units and a ReLU activation\n",
        "model.add(Dense(64, activation='relu'))\n",
        "\n",
        "# Add a final dense layer with 1 unit and a sigmoid activation\n",
        "model.add(Dense(1, activation='sigmoid'))\n",
        "\n",
        "# Compile the model with the Adam optimizer and binary cross-entropy loss\n",
        "model.compile(optimizer='adam', loss='binary_crossentropy', metrics=['accuracy'])\n",
        "\n",
        "# Fit the model on the training data and validate on the test data\n",
        "model.fit(X_train, y_train, epochs=10, validation_data=(X_test, y_test))"
      ],
      "metadata": {
        "colab": {
          "base_uri": "https://localhost:8080/"
        },
        "id": "S0nj5x7zqbel",
        "outputId": "0d27aabb-e582-4cbf-ff00-b6829f28d643"
      },
      "execution_count": null,
      "outputs": [
        {
          "output_type": "stream",
          "name": "stdout",
          "text": [
            "Epoch 1/10\n",
            "93/93 [==============================] - 5s 8ms/step - loss: nan - accuracy: 0.6616 - val_loss: nan - val_accuracy: 0.6680\n",
            "Epoch 2/10\n",
            "93/93 [==============================] - 0s 4ms/step - loss: nan - accuracy: 0.6471 - val_loss: nan - val_accuracy: 0.6680\n",
            "Epoch 3/10\n",
            "93/93 [==============================] - 1s 7ms/step - loss: nan - accuracy: 0.6471 - val_loss: nan - val_accuracy: 0.6680\n",
            "Epoch 4/10\n",
            "93/93 [==============================] - 1s 6ms/step - loss: nan - accuracy: 0.6471 - val_loss: nan - val_accuracy: 0.6680\n",
            "Epoch 5/10\n",
            "93/93 [==============================] - 1s 7ms/step - loss: nan - accuracy: 0.6471 - val_loss: nan - val_accuracy: 0.6680\n",
            "Epoch 6/10\n",
            "93/93 [==============================] - 0s 5ms/step - loss: nan - accuracy: 0.6471 - val_loss: nan - val_accuracy: 0.6680\n",
            "Epoch 7/10\n",
            "93/93 [==============================] - 0s 4ms/step - loss: nan - accuracy: 0.6471 - val_loss: nan - val_accuracy: 0.6680\n",
            "Epoch 8/10\n",
            "93/93 [==============================] - 0s 4ms/step - loss: nan - accuracy: 0.6471 - val_loss: nan - val_accuracy: 0.6680\n",
            "Epoch 9/10\n",
            "93/93 [==============================] - 0s 4ms/step - loss: nan - accuracy: 0.6471 - val_loss: nan - val_accuracy: 0.6680\n",
            "Epoch 10/10\n",
            "93/93 [==============================] - 0s 4ms/step - loss: nan - accuracy: 0.6471 - val_loss: nan - val_accuracy: 0.6680\n"
          ]
        },
        {
          "output_type": "execute_result",
          "data": {
            "text/plain": [
              "<keras.src.callbacks.History at 0x7d95be7ea1a0>"
            ]
          },
          "metadata": {},
          "execution_count": 4
        }
      ]
    },
    {
      "cell_type": "code",
      "source": [
        "\n",
        "# Prediction\n",
        "y_pred = model.predict(X_test)\n",
        "y_pred = (y_pred > 0.5)\n",
        "\n",
        "# Accuracy\n",
        "from sklearn.metrics import accuracy_score\n",
        "accuracy = accuracy_score(y_test, y_pred)\n",
        "print(f'Accuracy: {accuracy * 100}%')"
      ],
      "metadata": {
        "colab": {
          "base_uri": "https://localhost:8080/"
        },
        "id": "TD_F1AQduWrX",
        "outputId": "7e42d4dc-f3e0-4c5a-adb2-4c0ead37404c"
      },
      "execution_count": null,
      "outputs": [
        {
          "output_type": "stream",
          "name": "stdout",
          "text": [
            "24/24 [==============================] - 0s 3ms/step\n",
            "Accuracy: 66.80161943319838%\n"
          ]
        }
      ]
    },
    {
      "cell_type": "code",
      "source": [
        "#long Short Term Memory Networks (LSTMs)\n",
        "\n",
        "# Import necessary modules\n",
        "import tensorflow as tf\n",
        "from tensorflow.keras.models import Sequential\n",
        "from tensorflow.keras.layers import LSTM, Dense\n",
        "\n",
        "# Define the LSTM model\n",
        "model = Sequential()\n",
        "model.add(LSTM(64, input_shape=(X_train.shape[1], 1)))  # Reshape input data to add a third dimension\n",
        "model.add(Dense(1, activation='sigmoid'))\n",
        "\n",
        "# Compile the model\n",
        "model.compile(optimizer='adam', loss='binary_crossentropy', metrics=['accuracy'])\n",
        "\n",
        "# Train the model\n",
        "model.fit(X_train, y_train, epochs=10, validation_data=(X_test, y_test))"
      ],
      "metadata": {
        "colab": {
          "base_uri": "https://localhost:8080/"
        },
        "id": "9ebscfgJqdCk",
        "outputId": "ac6ea63d-afd9-464c-e69f-ca4d24a75607"
      },
      "execution_count": null,
      "outputs": [
        {
          "output_type": "stream",
          "name": "stdout",
          "text": [
            "Epoch 1/10\n",
            "93/93 [==============================] - 4s 16ms/step - loss: nan - accuracy: 0.6457 - val_loss: nan - val_accuracy: 0.6680\n",
            "Epoch 2/10\n",
            "93/93 [==============================] - 1s 7ms/step - loss: nan - accuracy: 0.6471 - val_loss: nan - val_accuracy: 0.6680\n",
            "Epoch 3/10\n",
            "93/93 [==============================] - 1s 8ms/step - loss: nan - accuracy: 0.6471 - val_loss: nan - val_accuracy: 0.6680\n",
            "Epoch 4/10\n",
            "93/93 [==============================] - 1s 8ms/step - loss: nan - accuracy: 0.6471 - val_loss: nan - val_accuracy: 0.6680\n",
            "Epoch 5/10\n",
            "93/93 [==============================] - 1s 7ms/step - loss: nan - accuracy: 0.6471 - val_loss: nan - val_accuracy: 0.6680\n",
            "Epoch 6/10\n",
            "93/93 [==============================] - 1s 7ms/step - loss: nan - accuracy: 0.6471 - val_loss: nan - val_accuracy: 0.6680\n",
            "Epoch 7/10\n",
            "93/93 [==============================] - 1s 8ms/step - loss: nan - accuracy: 0.6471 - val_loss: nan - val_accuracy: 0.6680\n",
            "Epoch 8/10\n",
            "93/93 [==============================] - 1s 7ms/step - loss: nan - accuracy: 0.6471 - val_loss: nan - val_accuracy: 0.6680\n",
            "Epoch 9/10\n",
            "93/93 [==============================] - 1s 7ms/step - loss: nan - accuracy: 0.6471 - val_loss: nan - val_accuracy: 0.6680\n",
            "Epoch 10/10\n",
            "93/93 [==============================] - 1s 7ms/step - loss: nan - accuracy: 0.6471 - val_loss: nan - val_accuracy: 0.6680\n"
          ]
        },
        {
          "output_type": "execute_result",
          "data": {
            "text/plain": [
              "<keras.src.callbacks.History at 0x7d954c182dd0>"
            ]
          },
          "metadata": {},
          "execution_count": 7
        }
      ]
    },
    {
      "cell_type": "code",
      "source": [
        "y_pred = model.predict(X_test)\n",
        "y_pred = (y_pred > 0.5)\n",
        "\n",
        "# Accuracy\n",
        "from sklearn.metrics import accuracy_score\n",
        "accuracy = accuracy_score(y_test, y_pred)\n",
        "print(f'Accuracy: {accuracy * 100}%')"
      ],
      "metadata": {
        "colab": {
          "base_uri": "https://localhost:8080/"
        },
        "id": "SgifmzTHuxWv",
        "outputId": "d29584b3-abe8-4f95-d41f-80284c6c54d8"
      },
      "execution_count": null,
      "outputs": [
        {
          "output_type": "stream",
          "name": "stdout",
          "text": [
            "24/24 [==============================] - 1s 6ms/step\n",
            "Accuracy: 66.80161943319838%\n"
          ]
        }
      ]
    },
    {
      "cell_type": "code",
      "source": [
        "# prompt: i have a cvs file for phishing url detection . which has 111 coloums of features and 1 coloum of target named \"phishing\". give me deep learning codes . which i can use to train and predict results,the algorithm should also print there accuracy.\n",
        "\n",
        "import pandas as pd\n",
        "from sklearn.model_selection import train_test_split\n",
        "from keras.models import Sequential\n",
        "from keras.layers import Dense, Conv1D, Flatten, MaxPooling1D, LSTM, SimpleRNN\n",
        "from tensorflow.keras.models import Sequential\n",
        "from tensorflow.keras.layers import Conv1D, MaxPooling1D, Flatten, Dense\n",
        "from sklearn.metrics import accuracy_score\n",
        "import tensorflow as tf\n",
        "from tensorflow.keras.layers import LSTM, Dense\n",
        "\n",
        "# Load the data\n",
        "data = pd.read_csv('/content/dataset_full.csv')\n",
        "X = data.drop('phishing', axis=1)\n",
        "y = data['phishing']\n",
        "\n",
        "# Split the data\n",
        "X_train, X_test, y_train, y_test = train_test_split(X, y, test_size=0.2, random_state=42)\n",
        "\n",
        "# Import necessary modules\n",
        "\n",
        "# Define the model\n",
        "model = Sequential()\n",
        "\n",
        "# Add the first convolutional layer with 32 filters and a kernel size of 2\n",
        "model.add(Conv1D(32, 2, activation='relu', input_shape=(X_train.shape[1], 1)))\n",
        "\n",
        "# Add a max pooling layer with a pool size of 2\n",
        "model.add(MaxPooling1D(pool_size=2))\n",
        "\n",
        "# Flatten the output\n",
        "model.add(Flatten())\n",
        "\n",
        "# Add a dense layer with 64 units and a ReLU activation\n",
        "model.add(Dense(64, activation='relu'))\n",
        "\n",
        "# Add a final dense layer with 1 unit and a sigmoid activation\n",
        "model.add(Dense(1, activation='sigmoid'))\n",
        "\n",
        "# Compile the model with the Adam optimizer and binary cross-entropy loss\n",
        "model.compile(optimizer='adam', loss='binary_crossentropy', metrics=['accuracy'])\n",
        "\n",
        "# Fit the model on the training data and validate on the test data\n",
        "model.fit(X_train, y_train, epochs=10, validation_data=(X_test, y_test))\n",
        "\n",
        "# Prediction\n",
        "y_pred = model.predict(X_test)\n",
        "y_pred = (y_pred > 0.5)\n",
        "\n",
        "# Accuracy\n",
        "accuracy = accuracy_score(y_test, y_pred)\n",
        "print(f'Accuracy: {accuracy * 100}%')\n",
        "#long Short Term Memory Networks (LSTMs)\n",
        "\n",
        "# Import necessary modules\n",
        "\n",
        "# Define the LSTM model\n",
        "model = Sequential()\n",
        "model.add(LSTM(64, input_shape=(X_train.shape[1], 1)))  # Reshape input data to add a third dimension\n",
        "model.add(Dense(1, activation='sigmoid'))\n",
        "\n",
        "# Compile the model\n",
        "model.compile(optimizer='adam', loss='binary_crossentropy', metrics=['accuracy'])\n",
        "\n",
        "# Train the model\n",
        "model.fit(X_train, y_train, epochs=10, validation_data=(X_test, y_test))\n",
        "y_pred = model.predict(X_test)\n",
        "y_pred = (y_pred > 0.5)\n",
        "\n",
        "# Accuracy\n",
        "accuracy = accuracy_score(y_test, y_pred)\n",
        "print(f'Accuracy: {accuracy * 100}%')\n"
      ],
      "metadata": {
        "colab": {
          "base_uri": "https://localhost:8080/"
        },
        "id": "A6q-vDchwTQl",
        "outputId": "2fdca81d-e1b9-492e-cec4-166f059c3afb"
      },
      "execution_count": null,
      "outputs": [
        {
          "output_type": "stream",
          "name": "stdout",
          "text": [
            "Epoch 1/10\n",
            "2217/2217 [==============================] - 10s 4ms/step - loss: 18.6507 - accuracy: 0.8411 - val_loss: 11.8436 - val_accuracy: 0.8861\n",
            "Epoch 2/10\n",
            "2217/2217 [==============================] - 10s 5ms/step - loss: 6.5797 - accuracy: 0.8791 - val_loss: 9.2761 - val_accuracy: 0.8618\n",
            "Epoch 3/10\n",
            "2217/2217 [==============================] - 8s 4ms/step - loss: 2.4091 - accuracy: 0.8822 - val_loss: 3.0907 - val_accuracy: 0.7947\n",
            "Epoch 4/10\n",
            "2217/2217 [==============================] - 9s 4ms/step - loss: 0.8669 - accuracy: 0.8902 - val_loss: 0.2661 - val_accuracy: 0.9080\n",
            "Epoch 5/10\n",
            "2217/2217 [==============================] - 9s 4ms/step - loss: 0.2940 - accuracy: 0.9045 - val_loss: 0.2159 - val_accuracy: 0.9153\n",
            "Epoch 6/10\n",
            "2217/2217 [==============================] - 9s 4ms/step - loss: 0.2261 - accuracy: 0.9094 - val_loss: 0.1984 - val_accuracy: 0.9108\n",
            "Epoch 7/10\n",
            "2217/2217 [==============================] - 12s 5ms/step - loss: 0.2122 - accuracy: 0.9132 - val_loss: 0.1898 - val_accuracy: 0.9212\n",
            "Epoch 8/10\n",
            "2217/2217 [==============================] - 9s 4ms/step - loss: 0.2020 - accuracy: 0.9174 - val_loss: 0.2041 - val_accuracy: 0.9183\n",
            "Epoch 9/10\n",
            "2217/2217 [==============================] - 9s 4ms/step - loss: 0.1853 - accuracy: 0.9236 - val_loss: 0.1716 - val_accuracy: 0.9258\n",
            "Epoch 10/10\n",
            "2217/2217 [==============================] - 9s 4ms/step - loss: 0.1713 - accuracy: 0.9292 - val_loss: 0.1653 - val_accuracy: 0.9324\n",
            "555/555 [==============================] - 1s 2ms/step\n",
            "Accuracy: 93.24309080654258%\n",
            "Epoch 1/10\n",
            "2217/2217 [==============================] - 19s 8ms/step - loss: 0.2564 - accuracy: 0.8933 - val_loss: 0.2302 - val_accuracy: 0.9049\n",
            "Epoch 2/10\n",
            "2217/2217 [==============================] - 16s 7ms/step - loss: 0.2032 - accuracy: 0.9160 - val_loss: 0.1948 - val_accuracy: 0.9186\n",
            "Epoch 3/10\n",
            "2217/2217 [==============================] - 17s 8ms/step - loss: 0.1905 - accuracy: 0.9207 - val_loss: 0.1869 - val_accuracy: 0.9198\n",
            "Epoch 4/10\n",
            "2217/2217 [==============================] - 17s 8ms/step - loss: 0.1798 - accuracy: 0.9268 - val_loss: 0.1829 - val_accuracy: 0.9274\n",
            "Epoch 5/10\n",
            "2217/2217 [==============================] - 16s 7ms/step - loss: 0.1759 - accuracy: 0.9306 - val_loss: 0.1686 - val_accuracy: 0.9369\n",
            "Epoch 6/10\n",
            "2217/2217 [==============================] - 16s 7ms/step - loss: 0.1683 - accuracy: 0.9344 - val_loss: 0.1574 - val_accuracy: 0.9426\n",
            "Epoch 7/10\n",
            "2217/2217 [==============================] - 17s 8ms/step - loss: 0.1571 - accuracy: 0.9383 - val_loss: 0.1613 - val_accuracy: 0.9382\n",
            "Epoch 8/10\n",
            "2217/2217 [==============================] - 16s 7ms/step - loss: 0.1538 - accuracy: 0.9395 - val_loss: 0.1621 - val_accuracy: 0.9376\n",
            "Epoch 9/10\n",
            "2217/2217 [==============================] - 17s 8ms/step - loss: 0.1477 - accuracy: 0.9425 - val_loss: 0.1467 - val_accuracy: 0.9426\n",
            "Epoch 10/10\n",
            "2217/2217 [==============================] - 16s 7ms/step - loss: 0.1446 - accuracy: 0.9440 - val_loss: 0.1429 - val_accuracy: 0.9466\n",
            "555/555 [==============================] - 2s 3ms/step\n",
            "Accuracy: 94.65877044557247%\n"
          ]
        }
      ]
    },
    {
      "cell_type": "code",
      "source": [],
      "metadata": {
        "id": "4XXJvMPxzLd0"
      },
      "execution_count": null,
      "outputs": []
    },
    {
      "cell_type": "code",
      "source": [],
      "metadata": {
        "id": "5RpbWDe9zLzz"
      },
      "execution_count": null,
      "outputs": []
    },
    {
      "cell_type": "code",
      "source": [],
      "metadata": {
        "id": "Lyt8iTkLzL7s"
      },
      "execution_count": null,
      "outputs": []
    },
    {
      "cell_type": "code",
      "source": [],
      "metadata": {
        "id": "vA5fsB-LzMDN"
      },
      "execution_count": null,
      "outputs": []
    },
    {
      "cell_type": "code",
      "source": [
        "import pandas as pd\n",
        "from tensorflow.keras.models import Sequential\n",
        "from tensorflow.keras.layers import LSTM, Dense\n",
        "from sklearn.model_selection import train_test_split\n",
        "from sklearn.preprocessing import StandardScaler\n",
        "\n",
        "# Assuming your CSV file is named 'phishing_data.csv' and is located in your Google Drive\n",
        "data_path = '/content/dataset_full.csv'  # Replace with your file path\n",
        "\n",
        "# Read the CSV data\n",
        "df = pd.read_csv(data_path)\n",
        "\n",
        "# Split features (X) and target variable (y)\n",
        "X = df.drop('phishing', axis=1)\n",
        "y = df['phishing']\n",
        "\n",
        "# Feature scaling (optional but recommended for RNNs)\n",
        "scaler = StandardScaler()\n",
        "X = scaler.fit_transform(X)\n",
        "\n",
        "# Train-test split\n",
        "X_train, X_test, y_train, y_test = train_test_split(X, y, test_size=0.2, random_state=42)"
      ],
      "metadata": {
        "id": "bt1tt0cBzMJG"
      },
      "execution_count": null,
      "outputs": []
    },
    {
      "cell_type": "code",
      "source": [
        "import numpy as np\n",
        "from tensorflow.keras.models import Sequential\n",
        "from tensorflow.keras.layers import LSTM, Dense\n",
        "\n",
        "# Define the LSTM model\n",
        "model = Sequential()\n",
        "model.add(LSTM(128, return_sequences=True, input_shape=(X_train.shape[1], 1)))\n",
        "model.add(LSTM(64))\n",
        "model.add(Dense(1, activation='sigmoid'))  # Output layer for binary classification\n",
        "\n",
        "# Compile the model\n",
        "model.compile(loss='binary_crossentropy', optimizer='adam', metrics=['accuracy'])\n",
        "\n",
        "# Train the model\n",
        "model.fit(X_train, y_train, epochs=20, batch_size=32, validation_data=(X_test, y_test))"
      ],
      "metadata": {
        "colab": {
          "base_uri": "https://localhost:8080/"
        },
        "id": "vVHyTKvJ0AKj",
        "outputId": "9c9074a6-44e4-4666-d0e0-1ed2dfa5cd0e"
      },
      "execution_count": null,
      "outputs": [
        {
          "output_type": "stream",
          "name": "stdout",
          "text": [
            "Epoch 1/20\n",
            "2217/2217 [==============================] - 38s 15ms/step - loss: 0.2844 - accuracy: 0.8779 - val_loss: 0.2436 - val_accuracy: 0.8943\n",
            "Epoch 2/20\n",
            "2217/2217 [==============================] - 28s 13ms/step - loss: 0.2377 - accuracy: 0.8979 - val_loss: 0.2117 - val_accuracy: 0.9158\n",
            "Epoch 3/20\n",
            "2217/2217 [==============================] - 26s 12ms/step - loss: 0.2007 - accuracy: 0.9172 - val_loss: 0.1932 - val_accuracy: 0.9156\n",
            "Epoch 4/20\n",
            "2217/2217 [==============================] - 26s 12ms/step - loss: 0.1804 - accuracy: 0.9250 - val_loss: 0.1823 - val_accuracy: 0.9241\n",
            "Epoch 5/20\n",
            "2217/2217 [==============================] - 27s 12ms/step - loss: 0.1736 - accuracy: 0.9297 - val_loss: 0.1624 - val_accuracy: 0.9360\n",
            "Epoch 6/20\n",
            "2217/2217 [==============================] - 26s 12ms/step - loss: 0.1582 - accuracy: 0.9372 - val_loss: 0.1639 - val_accuracy: 0.9308\n",
            "Epoch 7/20\n",
            "2217/2217 [==============================] - 27s 12ms/step - loss: 0.1484 - accuracy: 0.9405 - val_loss: 0.1532 - val_accuracy: 0.9399\n",
            "Epoch 8/20\n",
            "2217/2217 [==============================] - 26s 12ms/step - loss: 0.1379 - accuracy: 0.9457 - val_loss: 0.1351 - val_accuracy: 0.9473\n",
            "Epoch 9/20\n",
            "2217/2217 [==============================] - 26s 12ms/step - loss: 0.1324 - accuracy: 0.9477 - val_loss: 0.1306 - val_accuracy: 0.9496\n",
            "Epoch 10/20\n",
            "2217/2217 [==============================] - 27s 12ms/step - loss: 0.1264 - accuracy: 0.9510 - val_loss: 0.1263 - val_accuracy: 0.9511\n",
            "Epoch 11/20\n",
            "2217/2217 [==============================] - 26s 12ms/step - loss: 0.1210 - accuracy: 0.9533 - val_loss: 0.1249 - val_accuracy: 0.9518\n",
            "Epoch 12/20\n",
            "2217/2217 [==============================] - 26s 12ms/step - loss: 0.1192 - accuracy: 0.9542 - val_loss: 0.1255 - val_accuracy: 0.9534\n",
            "Epoch 13/20\n",
            "2217/2217 [==============================] - 26s 12ms/step - loss: 0.1120 - accuracy: 0.9577 - val_loss: 0.1272 - val_accuracy: 0.9522\n",
            "Epoch 14/20\n",
            "2217/2217 [==============================] - 26s 12ms/step - loss: 0.1087 - accuracy: 0.9585 - val_loss: 0.1275 - val_accuracy: 0.9521\n",
            "Epoch 15/20\n",
            "2217/2217 [==============================] - 29s 13ms/step - loss: 0.1050 - accuracy: 0.9600 - val_loss: 0.1190 - val_accuracy: 0.9570\n",
            "Epoch 16/20\n",
            "2217/2217 [==============================] - 27s 12ms/step - loss: 0.1006 - accuracy: 0.9620 - val_loss: 0.1152 - val_accuracy: 0.9576\n",
            "Epoch 17/20\n",
            "2217/2217 [==============================] - 27s 12ms/step - loss: 0.0967 - accuracy: 0.9642 - val_loss: 0.1243 - val_accuracy: 0.9525\n",
            "Epoch 18/20\n",
            "2217/2217 [==============================] - 27s 12ms/step - loss: 0.0963 - accuracy: 0.9647 - val_loss: 0.1219 - val_accuracy: 0.9549\n",
            "Epoch 19/20\n",
            "2217/2217 [==============================] - 27s 12ms/step - loss: 0.0921 - accuracy: 0.9653 - val_loss: 0.1134 - val_accuracy: 0.9603\n",
            "Epoch 20/20\n",
            "2217/2217 [==============================] - 26s 12ms/step - loss: 0.0876 - accuracy: 0.9670 - val_loss: 0.1181 - val_accuracy: 0.9591\n"
          ]
        },
        {
          "output_type": "execute_result",
          "data": {
            "text/plain": [
              "<keras.src.callbacks.History at 0x7d953dc4cdc0>"
            ]
          },
          "metadata": {},
          "execution_count": 14
        }
      ]
    },
    {
      "cell_type": "code",
      "source": [
        "import pandas as pd\n",
        "from tensorflow.keras.models import Sequential\n",
        "from tensorflow.keras.layers import Conv1D, MaxPooling1D, Flatten, Dense\n",
        "from sklearn.model_selection import train_test_split\n",
        "from sklearn.preprocessing import StandardScaler\n",
        "\n",
        "# Assuming your CSV file is named 'phishing_data.csv' and is located in your Google Drive\n",
        "data_path = '/content/dataset_full.csv'  # Replace with your actual file path\n",
        "\n",
        "# Read the CSV data\n",
        "df = pd.read_csv(data_path)\n",
        "\n",
        "# Split features (X) and target variable (y)\n",
        "X = df.drop('phishing', axis=1)\n",
        "y = df['phishing']\n",
        "\n",
        "# Feature scaling (optional but recommended for CNNs)\n",
        "scaler = StandardScaler()\n",
        "X = scaler.fit_transform(X)\n",
        "\n",
        "# Reshape data for 1D convolution (samples, features)\n",
        "X = X.reshape(X.shape[0], X.shape[1], 1)  # Add a channel dimension for CNN\n",
        "\n",
        "# Train-test split\n",
        "X_train, X_test, y_train, y_test = train_test_split(X, y, test_size=0.2, random_state=42)\n",
        "\n",
        "# Define the CNN model\n",
        "model = Sequential()\n",
        "model.add(Conv1D(filters=32, kernel_size=3, activation='relu', input_shape=(X_train.shape[1], 1)))\n",
        "model.add(MaxPooling1D(pool_size=2))\n",
        "model.add(Flatten())\n",
        "model.add(Dense(64, activation='relu'))\n",
        "model.add(Dense(1, activation='sigmoid'))  # Output layer for binary classification\n",
        "\n",
        "# Compile the model\n",
        "model.compile(loss='binary_crossentropy', optimizer='adam', metrics=['accuracy'])\n",
        "\n",
        "# Train the model\n",
        "model.fit(X_train, y_train, epochs=20, batch_size=32, validation_data=(X_test, y_test))"
      ],
      "metadata": {
        "colab": {
          "base_uri": "https://localhost:8080/"
        },
        "id": "ZpCWS0MY0q0s",
        "outputId": "8bfd2f7b-97f1-49d6-ded6-83c374921050"
      },
      "execution_count": null,
      "outputs": [
        {
          "output_type": "stream",
          "name": "stdout",
          "text": [
            "Epoch 1/20\n",
            "2217/2217 [==============================] - 12s 5ms/step - loss: 0.1679 - accuracy: 0.9322 - val_loss: 0.1382 - val_accuracy: 0.9443\n",
            "Epoch 2/20\n",
            "2217/2217 [==============================] - 9s 4ms/step - loss: 0.1343 - accuracy: 0.9490 - val_loss: 0.1480 - val_accuracy: 0.9446\n",
            "Epoch 3/20\n",
            "2217/2217 [==============================] - 9s 4ms/step - loss: 0.1219 - accuracy: 0.9531 - val_loss: 0.1166 - val_accuracy: 0.9541\n",
            "Epoch 4/20\n",
            "2217/2217 [==============================] - 9s 4ms/step - loss: 0.1145 - accuracy: 0.9562 - val_loss: 0.1183 - val_accuracy: 0.9541\n",
            "Epoch 5/20\n",
            "2217/2217 [==============================] - 10s 4ms/step - loss: 0.1107 - accuracy: 0.9579 - val_loss: 0.1175 - val_accuracy: 0.9540\n",
            "Epoch 6/20\n",
            "2217/2217 [==============================] - 8s 4ms/step - loss: 0.1094 - accuracy: 0.9599 - val_loss: 0.1149 - val_accuracy: 0.9551\n",
            "Epoch 7/20\n",
            "2217/2217 [==============================] - 9s 4ms/step - loss: 0.1047 - accuracy: 0.9608 - val_loss: 0.1107 - val_accuracy: 0.9575\n",
            "Epoch 8/20\n",
            "2217/2217 [==============================] - 9s 4ms/step - loss: 0.1021 - accuracy: 0.9619 - val_loss: 0.1092 - val_accuracy: 0.9599\n",
            "Epoch 9/20\n",
            "2217/2217 [==============================] - 9s 4ms/step - loss: 0.0994 - accuracy: 0.9627 - val_loss: 0.1111 - val_accuracy: 0.9593\n",
            "Epoch 10/20\n",
            "2217/2217 [==============================] - 8s 4ms/step - loss: 0.0972 - accuracy: 0.9629 - val_loss: 0.1107 - val_accuracy: 0.9589\n",
            "Epoch 11/20\n",
            "2217/2217 [==============================] - 9s 4ms/step - loss: 0.0958 - accuracy: 0.9637 - val_loss: 0.1089 - val_accuracy: 0.9592\n",
            "Epoch 12/20\n",
            "2217/2217 [==============================] - 9s 4ms/step - loss: 0.0936 - accuracy: 0.9649 - val_loss: 0.1126 - val_accuracy: 0.9581\n",
            "Epoch 13/20\n",
            "2217/2217 [==============================] - 9s 4ms/step - loss: 0.0940 - accuracy: 0.9654 - val_loss: 0.1097 - val_accuracy: 0.9596\n",
            "Epoch 14/20\n",
            "2217/2217 [==============================] - 8s 4ms/step - loss: 0.0904 - accuracy: 0.9663 - val_loss: 0.1122 - val_accuracy: 0.9580\n",
            "Epoch 15/20\n",
            "2217/2217 [==============================] - 9s 4ms/step - loss: 0.0893 - accuracy: 0.9667 - val_loss: 0.1094 - val_accuracy: 0.9605\n",
            "Epoch 16/20\n",
            "2217/2217 [==============================] - 9s 4ms/step - loss: 0.0879 - accuracy: 0.9672 - val_loss: 0.1090 - val_accuracy: 0.9606\n",
            "Epoch 17/20\n",
            "2217/2217 [==============================] - 9s 4ms/step - loss: 0.0876 - accuracy: 0.9678 - val_loss: 0.1093 - val_accuracy: 0.9600\n",
            "Epoch 18/20\n",
            "2217/2217 [==============================] - 9s 4ms/step - loss: 0.0854 - accuracy: 0.9682 - val_loss: 0.1121 - val_accuracy: 0.9588\n",
            "Epoch 19/20\n",
            "2217/2217 [==============================] - 9s 4ms/step - loss: 0.0868 - accuracy: 0.9683 - val_loss: 0.1086 - val_accuracy: 0.9610\n",
            "Epoch 20/20\n",
            "2217/2217 [==============================] - 9s 4ms/step - loss: 0.0846 - accuracy: 0.9692 - val_loss: 0.1054 - val_accuracy: 0.9620\n"
          ]
        },
        {
          "output_type": "execute_result",
          "data": {
            "text/plain": [
              "<keras.src.callbacks.History at 0x7d9541a8d1b0>"
            ]
          },
          "metadata": {},
          "execution_count": 19
        }
      ]
    },
    {
      "cell_type": "markdown",
      "source": [],
      "metadata": {
        "id": "Uk3dPGjXgtk-"
      }
    },
    {
      "cell_type": "code",
      "source": [
        "# Evaluate the model and print accuracy\n",
        "loss, accuracy = model.evaluate(X_test, y_test)\n",
        "\n",
        "print('Test Accuracy:', accuracy*100)"
      ],
      "metadata": {
        "colab": {
          "base_uri": "https://localhost:8080/"
        },
        "id": "gKxFWS_s4YXd",
        "outputId": "45996247-00e1-4871-fcaa-740c4d0ebae1"
      },
      "execution_count": null,
      "outputs": [
        {
          "output_type": "stream",
          "name": "stdout",
          "text": [
            "555/555 [==============================] - 2s 4ms/step - loss: 0.1054 - accuracy: 0.9620\n",
            "Test Accuracy: 96.20417356491089\n"
          ]
        }
      ]
    },
    {
      "cell_type": "code",
      "source": [
        "import pandas as pd\n",
        "from tensorflow.keras.models import Sequential\n",
        "from tensorflow.keras.layers import LSTM, Dense\n",
        "from sklearn.model_selection import train_test_split\n",
        "from sklearn.preprocessing import StandardScaler\n",
        "\n",
        "# Assuming your CSV file is named 'phishing_data.csv'\n",
        "data_path = '/content/dataset_full.csv'  # Replace with your file path\n",
        "\n",
        "# Read the CSV data\n",
        "df = pd.read_csv(data_path)\n",
        "\n",
        "# Split features (X) and target variable (y)\n",
        "X = df.drop('phishing', axis=1)\n",
        "y = df['phishing']\n",
        "\n",
        "# Feature scaling (optional but recommended for RNNs)\n",
        "scaler = StandardScaler()\n",
        "X = scaler.fit_transform(X)\n",
        "\n",
        "# Train-test split\n",
        "X_train, X_test, y_train, y_test = train_test_split(X, y, test_size=0.2, random_state=42)\n",
        "\n",
        "# Reshape X_train and X_test to add a missing dimension for LSTMs\n",
        "X_train = X_train.reshape((X_train.shape[0], 1, X_train.shape[1]))\n",
        "X_test = X_test.reshape((X_test.shape[0], 1, X_test.shape[1]))  # Reshape X_test as well\n",
        "\n",
        "# Define the LSTM model\n",
        "model = Sequential()\n",
        "model.add(LSTM(128, return_sequences=True, input_shape=(1, X_train.shape[2])))\n",
        "model.add(LSTM(64))\n",
        "model.add(Dense(1, activation='sigmoid'))  # Output layer for binary classification\n",
        "\n",
        "# Compile the model\n",
        "model.compile(loss='binary_crossentropy', optimizer='adam', metrics=['accuracy'])\n",
        "\n",
        "# Train the model\n",
        "model.fit(X_train, y_train, epochs=20, batch_size=32, validation_data=(X_test, y_test))\n",
        "\n",
        "# Verify the model\n",
        "model.summary()\n"
      ],
      "metadata": {
        "colab": {
          "base_uri": "https://localhost:8080/"
        },
        "id": "WoLXeW754hn2",
        "outputId": "37a070ef-83d6-4a8a-87ab-20fe4fde83e7"
      },
      "execution_count": null,
      "outputs": [
        {
          "output_type": "stream",
          "name": "stdout",
          "text": [
            "Epoch 1/20\n",
            "2217/2217 [==============================] - 17s 6ms/step - loss: 0.1628 - accuracy: 0.9352 - val_loss: 0.1359 - val_accuracy: 0.9459\n",
            "Epoch 2/20\n",
            "2217/2217 [==============================] - 13s 6ms/step - loss: 0.1286 - accuracy: 0.9500 - val_loss: 0.1243 - val_accuracy: 0.9525\n",
            "Epoch 3/20\n",
            "2217/2217 [==============================] - 15s 7ms/step - loss: 0.1183 - accuracy: 0.9555 - val_loss: 0.1194 - val_accuracy: 0.9547\n",
            "Epoch 4/20\n",
            "2217/2217 [==============================] - 15s 7ms/step - loss: 0.1124 - accuracy: 0.9578 - val_loss: 0.1180 - val_accuracy: 0.9552\n",
            "Epoch 5/20\n",
            "2217/2217 [==============================] - 13s 6ms/step - loss: 0.1076 - accuracy: 0.9595 - val_loss: 0.1162 - val_accuracy: 0.9556\n",
            "Epoch 6/20\n",
            "2217/2217 [==============================] - 13s 6ms/step - loss: 0.1038 - accuracy: 0.9613 - val_loss: 0.1174 - val_accuracy: 0.9576\n",
            "Epoch 7/20\n",
            "2217/2217 [==============================] - 13s 6ms/step - loss: 0.1009 - accuracy: 0.9622 - val_loss: 0.1118 - val_accuracy: 0.9569\n",
            "Epoch 8/20\n",
            "2217/2217 [==============================] - 13s 6ms/step - loss: 0.0971 - accuracy: 0.9646 - val_loss: 0.1129 - val_accuracy: 0.9578\n",
            "Epoch 9/20\n",
            "2217/2217 [==============================] - 13s 6ms/step - loss: 0.0947 - accuracy: 0.9653 - val_loss: 0.1103 - val_accuracy: 0.9591\n",
            "Epoch 10/20\n",
            "2217/2217 [==============================] - 13s 6ms/step - loss: 0.0918 - accuracy: 0.9659 - val_loss: 0.1110 - val_accuracy: 0.9580\n",
            "Epoch 11/20\n",
            "2217/2217 [==============================] - 15s 7ms/step - loss: 0.0896 - accuracy: 0.9666 - val_loss: 0.1085 - val_accuracy: 0.9611\n",
            "Epoch 12/20\n",
            "2217/2217 [==============================] - 13s 6ms/step - loss: 0.0873 - accuracy: 0.9675 - val_loss: 0.1086 - val_accuracy: 0.9611\n",
            "Epoch 13/20\n",
            "2217/2217 [==============================] - 14s 6ms/step - loss: 0.0853 - accuracy: 0.9680 - val_loss: 0.1105 - val_accuracy: 0.9596\n",
            "Epoch 14/20\n",
            "2217/2217 [==============================] - 14s 6ms/step - loss: 0.0829 - accuracy: 0.9688 - val_loss: 0.1088 - val_accuracy: 0.9614\n",
            "Epoch 15/20\n",
            "2217/2217 [==============================] - 14s 6ms/step - loss: 0.0805 - accuracy: 0.9699 - val_loss: 0.1114 - val_accuracy: 0.9624\n",
            "Epoch 16/20\n",
            "2217/2217 [==============================] - 13s 6ms/step - loss: 0.0785 - accuracy: 0.9706 - val_loss: 0.1123 - val_accuracy: 0.9623\n",
            "Epoch 17/20\n",
            "2217/2217 [==============================] - 15s 7ms/step - loss: 0.0770 - accuracy: 0.9711 - val_loss: 0.1148 - val_accuracy: 0.9608\n",
            "Epoch 18/20\n",
            "2217/2217 [==============================] - 14s 6ms/step - loss: 0.0738 - accuracy: 0.9723 - val_loss: 0.1128 - val_accuracy: 0.9624\n",
            "Epoch 19/20\n",
            "2217/2217 [==============================] - 14s 6ms/step - loss: 0.0723 - accuracy: 0.9729 - val_loss: 0.1221 - val_accuracy: 0.9593\n",
            "Epoch 20/20\n",
            "2217/2217 [==============================] - 15s 7ms/step - loss: 0.0708 - accuracy: 0.9731 - val_loss: 0.1157 - val_accuracy: 0.9602\n",
            "Model: \"sequential_19\"\n",
            "_________________________________________________________________\n",
            " Layer (type)                Output Shape              Param #   \n",
            "=================================================================\n",
            " lstm_18 (LSTM)              (None, 1, 128)            122880    \n",
            "                                                                 \n",
            " lstm_19 (LSTM)              (None, 64)                49408     \n",
            "                                                                 \n",
            " dense_18 (Dense)            (None, 1)                 65        \n",
            "                                                                 \n",
            "=================================================================\n",
            "Total params: 172353 (673.25 KB)\n",
            "Trainable params: 172353 (673.25 KB)\n",
            "Non-trainable params: 0 (0.00 Byte)\n",
            "_________________________________________________________________\n"
          ]
        }
      ]
    },
    {
      "cell_type": "code",
      "source": [
        "# Evaluate the model and print accuracy\n",
        "loss, accuracy = model.evaluate(X_test, y_test)\n",
        "\n",
        "print('Test Accuracy:', accuracy*100)"
      ],
      "metadata": {
        "colab": {
          "base_uri": "https://localhost:8080/"
        },
        "id": "9MjW987b8UZd",
        "outputId": "95b34cac-1c49-4f49-f8aa-8c12f4a97ccf"
      },
      "execution_count": null,
      "outputs": [
        {
          "output_type": "stream",
          "name": "stdout",
          "text": [
            "555/555 [==============================] - 2s 4ms/step - loss: 0.1157 - accuracy: 0.9602\n",
            "Test Accuracy: 96.023690700531\n"
          ]
        }
      ]
    },
    {
      "cell_type": "code",
      "source": [
        "#Here's the code for a Multilayer Perceptron (MLP) for phishing URL detection in Google Colab, following the structure of the previous examples:\n",
        "\n",
        "\n",
        "import pandas as pd\n",
        "from tensorflow.keras.models import Sequential\n",
        "from tensorflow.keras.layers import Dense\n",
        "from sklearn.model_selection import train_test_split\n",
        "from sklearn.preprocessing import StandardScaler\n",
        "\n",
        "# Assuming your CSV file is named 'phishing_data.csv' and is located in your Google Drive\n",
        "data_path = '/content/dataset_full.csv'  # Replace with your file path\n",
        "\n",
        "# Read the CSV data\n",
        "df = pd.read_csv(data_path)\n",
        "\n",
        "# Split features (X) and target variable (y)\n",
        "X = df.drop('phishing', axis=1)\n",
        "y = df['phishing']\n",
        "\n",
        "# Feature scaling (recommended for MLPs)\n",
        "scaler = StandardScaler()\n",
        "X = scaler.fit_transform(X)\n",
        "\n",
        "# Train-test split\n",
        "X_train, X_test, y_train, y_test = train_test_split(X, y, test_size=0.2, random_state=42)\n",
        "\n",
        "# Define the MLP model\n",
        "model = Sequential()\n",
        "model.add(Dense(128, activation='relu', input_shape=(X_train.shape[1],)))  # Input layer with number of features\n",
        "model.add(Dense(64, activation='relu'))  # Hidden layer with 64 units\n",
        "model.add(Dense(1, activation='sigmoid'))  # Output layer for binary classification\n",
        "\n",
        "# Compile the model\n",
        "model.compile(loss='binary_crossentropy', optimizer='adam', metrics=['accuracy'])\n",
        "\n",
        "# Train the model\n",
        "model.fit(X_train, y_train, epochs=20, batch_size=32, validation_data=(X_test, y_test))"
      ],
      "metadata": {
        "colab": {
          "base_uri": "https://localhost:8080/"
        },
        "id": "iEsPIYEe8sR4",
        "outputId": "bc983e6e-700d-49a7-f717-6c86d7738d7d"
      },
      "execution_count": null,
      "outputs": [
        {
          "output_type": "stream",
          "name": "stdout",
          "text": [
            "Epoch 1/20\n",
            "2217/2217 [==============================] - 10s 4ms/step - loss: 0.1561 - accuracy: 0.9366 - val_loss: 0.1344 - val_accuracy: 0.9458\n",
            "Epoch 2/20\n",
            "2217/2217 [==============================] - 8s 4ms/step - loss: 0.1276 - accuracy: 0.9506 - val_loss: 0.1256 - val_accuracy: 0.9536\n",
            "Epoch 3/20\n",
            "2217/2217 [==============================] - 8s 4ms/step - loss: 0.1190 - accuracy: 0.9547 - val_loss: 0.1188 - val_accuracy: 0.9548\n",
            "Epoch 4/20\n",
            "2217/2217 [==============================] - 9s 4ms/step - loss: 0.1135 - accuracy: 0.9569 - val_loss: 0.1194 - val_accuracy: 0.9554\n",
            "Epoch 5/20\n",
            "2217/2217 [==============================] - 8s 4ms/step - loss: 0.1103 - accuracy: 0.9584 - val_loss: 0.1182 - val_accuracy: 0.9545\n",
            "Epoch 6/20\n",
            "2217/2217 [==============================] - 9s 4ms/step - loss: 0.1055 - accuracy: 0.9607 - val_loss: 0.1130 - val_accuracy: 0.9583\n",
            "Epoch 7/20\n",
            "2217/2217 [==============================] - 9s 4ms/step - loss: 0.1028 - accuracy: 0.9618 - val_loss: 0.1136 - val_accuracy: 0.9566\n",
            "Epoch 8/20\n",
            "2217/2217 [==============================] - 8s 3ms/step - loss: 0.0994 - accuracy: 0.9625 - val_loss: 0.1227 - val_accuracy: 0.9538\n",
            "Epoch 9/20\n",
            "2217/2217 [==============================] - 9s 4ms/step - loss: 0.0972 - accuracy: 0.9632 - val_loss: 0.1136 - val_accuracy: 0.9563\n",
            "Epoch 10/20\n",
            "2217/2217 [==============================] - 9s 4ms/step - loss: 0.0949 - accuracy: 0.9645 - val_loss: 0.1110 - val_accuracy: 0.9580\n",
            "Epoch 11/20\n",
            "2217/2217 [==============================] - 8s 4ms/step - loss: 0.0929 - accuracy: 0.9653 - val_loss: 0.1094 - val_accuracy: 0.9585\n",
            "Epoch 12/20\n",
            "2217/2217 [==============================] - 8s 3ms/step - loss: 0.0904 - accuracy: 0.9665 - val_loss: 0.1117 - val_accuracy: 0.9584\n",
            "Epoch 13/20\n",
            "2217/2217 [==============================] - 8s 4ms/step - loss: 0.0890 - accuracy: 0.9672 - val_loss: 0.1073 - val_accuracy: 0.9600\n",
            "Epoch 14/20\n",
            "2217/2217 [==============================] - 8s 4ms/step - loss: 0.0860 - accuracy: 0.9684 - val_loss: 0.1160 - val_accuracy: 0.9564\n",
            "Epoch 15/20\n",
            "2217/2217 [==============================] - 8s 3ms/step - loss: 0.0849 - accuracy: 0.9686 - val_loss: 0.1108 - val_accuracy: 0.9593\n",
            "Epoch 16/20\n",
            "2217/2217 [==============================] - 9s 4ms/step - loss: 0.0835 - accuracy: 0.9690 - val_loss: 0.1094 - val_accuracy: 0.9597\n",
            "Epoch 17/20\n",
            "2217/2217 [==============================] - 8s 4ms/step - loss: 0.0812 - accuracy: 0.9701 - val_loss: 0.1071 - val_accuracy: 0.9602\n",
            "Epoch 18/20\n",
            "2217/2217 [==============================] - 8s 3ms/step - loss: 0.0796 - accuracy: 0.9709 - val_loss: 0.1144 - val_accuracy: 0.9598\n",
            "Epoch 19/20\n",
            "2217/2217 [==============================] - 9s 4ms/step - loss: 0.0784 - accuracy: 0.9711 - val_loss: 0.1112 - val_accuracy: 0.9591\n",
            "Epoch 20/20\n",
            "2217/2217 [==============================] - 9s 4ms/step - loss: 0.0774 - accuracy: 0.9713 - val_loss: 0.1126 - val_accuracy: 0.9603\n"
          ]
        },
        {
          "output_type": "execute_result",
          "data": {
            "text/plain": [
              "<keras.src.callbacks.History at 0x7d94d9a8e7a0>"
            ]
          },
          "metadata": {},
          "execution_count": 34
        }
      ]
    },
    {
      "cell_type": "code",
      "source": [
        "# Evaluate the model and print accuracy\n",
        "loss, accuracy = model.evaluate(X_test, y_test)\n",
        "\n",
        "print('Test Accuracy:', accuracy*100)"
      ],
      "metadata": {
        "colab": {
          "base_uri": "https://localhost:8080/"
        },
        "id": "n2h-HrOv9xAu",
        "outputId": "e07718d0-3d0d-46e9-b3b0-97ab516722c7"
      },
      "execution_count": null,
      "outputs": [
        {
          "output_type": "stream",
          "name": "stdout",
          "text": [
            "555/555 [==============================] - 1s 2ms/step - loss: 0.1126 - accuracy: 0.9603\n",
            "Test Accuracy: 96.02932929992676\n"
          ]
        }
      ]
    }
  ]
}